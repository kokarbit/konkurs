{
 "cells": [
  {
   "cell_type": "code",
   "execution_count": 3,
   "metadata": {
    "scrolled": true
   },
   "outputs": [],
   "source": [
    "#Libs ----\n",
    "import pandas as pd\n",
    "import numpy as np\n",
    "np.random.seed(42)\n",
    "import re\n",
    "import sys\n",
    "from sklearn.metrics import mean_squared_error as mse\n",
    "from sklearn.metrics import accuracy_score, precision_score\n",
    "from sklearn.dummy import DummyRegressor, DummyClassifier\n",
    "from sklearn.tree import DecisionTreeRegressor\n",
    "from sklearn.ensemble import RandomForestRegressor, ExtraTreesRegressor\n",
    "#--\n",
    "from sklearn.datasets import make_regression, make_classification\n",
    "from sklearn.model_selection import train_test_split, KFold, StratifiedKFold, cross_val_score, cross_validate, cross_val_predict\n",
    "from sklearn.metrics import r2_score, f1_score\n",
    "from sklearn.tree import DecisionTreeRegressor, DecisionTreeClassifier\n",
    "from sklearn.ensemble import RandomForestRegressor, RandomForestClassifier\n",
    "import scikitplot as skplt\n",
    "from scikitplot.estimators import plot_learning_curve\n",
    "from sklearn.model_selection import KFold\n",
    "from ml_metrics import rmsle\n",
    "import xgboost as xgb\n",
    "import lightgbm as lgb\n",
    "import catboost as ctb\n",
    "import matplotlib.pyplot as plt\n",
    "import seaborn as sns\n",
    "from sklearn.model_selection import learning_curve\n",
    "from sklearn.model_selection import ShuffleSplit\n",
    "import matplotlib.pyplot as plt\n",
    "\n",
    "import warnings\n",
    "warnings.filterwarnings('ignore')\n",
    "\n",
    "##--\n",
    "#def ----\n",
    "def get_col_names(df, black_list=['Target']):\n",
    "    col = train.select_dtypes(include=[np.number, np.bool]).columns.values\n",
    "    return [x for x in col if x not in black_list]\n",
    "\n",
    "def train_and_predict(model, X, y, test_size=0.33):\n",
    "    X_train, X_test, y_train, y_test = train_test_split(X, y, test_size=0.3, random_state=2018)\n",
    "    \n",
    "    model.fit(X_train, y_train)    \n",
    "    y_pred = model.predict(X_test) \n",
    "\n",
    "    return accuracy_score(y_test, y_pred)\n",
    "\n",
    "def total(X, y , model):\n",
    "\n",
    "    cv = StratifiedKFold(n_splits=3, random_state=2018, shuffle=True)\n",
    "   \n",
    "    scores = []\n",
    "    for df_idx, test_idx in cv.split(X, y):\n",
    "        model.fit(X[df_idx], y[df_idx])\n",
    "        y_pred = model.predict(X[test_idx])\n",
    "\n",
    "        score = accuracy_score(y[test_idx], y_pred )\n",
    "        scores.append(score)\n",
    "\n",
    "    return (np.max(scores), np.mean(scores), np.std(scores))\n",
    "    \n",
    "\n",
    "def compare(model_name, model, X, y):\n",
    "\n",
    "    print(model_name)\n",
    "    print(train_and_predict(model, X, y, test_size=0.33))\n",
    "    print(total(X, y, model))\n",
    "    \n",
    "    print()\n",
    "\n",
    "##--\n",
    "#clean ----\n",
    "def check_missing():\n",
    "    for column in train.columns:\n",
    "        missing = column, train[column].isnull().sum()\n",
    "        if missing[1] == 0: continue\n",
    "\n",
    "        print(missing)\n"
   ]
  },
  {
   "cell_type": "code",
   "execution_count": 4,
   "metadata": {},
   "outputs": [
    {
     "name": "stdout",
     "output_type": "stream",
     "text": [
      "('description', 2239)\n"
     ]
    },
    {
     "data": {
      "text/plain": [
       "['invoice',\n",
       " 'stock_code',\n",
       " 'quantity',\n",
       " 'price_unit',\n",
       " 'price_total',\n",
       " 'customer_id',\n",
       " 'description_cat',\n",
       " 'country_cat']"
      ]
     },
     "execution_count": 4,
     "metadata": {},
     "output_type": "execute_result"
    }
   ],
   "source": [
    "##--\n",
    "#data ----\n",
    "train = pd.read_hdf('../input/train_online_retail.h5')\n",
    "\n",
    "test = pd.read_hdf('../input/test_online_retail.h5')\n",
    "\n",
    "orders_train =  pd.read_csv('../input/orders_train.csv') \n",
    "check_missing()\n",
    "\n",
    "train = train.fillna('-1')\n",
    "test = test.fillna('-1')\n",
    "\n",
    "cat_feats = train.select_dtypes(include=[np.object]).columns\n",
    "cat_feats_test = test.select_dtypes(include=[np.object]).columns\n",
    "\n",
    "for cat_feat in cat_feats:\n",
    "    train['{0}_cat'.format(cat_feat)] = pd.factorize( train[cat_feat] )[0]\n",
    "    \n",
    "for cat_feat_test in cat_feats_test:\n",
    "    test['{0}_cat'.format(cat_feat_test)] = pd.factorize( test[cat_feat_test] )[0]\n",
    "    \n",
    "feats = get_col_names(train, black_list = ['is_canceled', 'is_test'])\n",
    "feats"
   ]
  },
  {
   "cell_type": "code",
   "execution_count": 5,
   "metadata": {},
   "outputs": [],
   "source": [
    "## feature engineering ---- bezużyteczna cecha\n",
    "\n",
    "def vintage_15andmore (row):\n",
    "    description = row['description']\n",
    "    price_total = row['price_total']\n",
    "    if price_total >= 15 and description == 'vintage':\n",
    "        return 1\n",
    "    else:\n",
    "        return 0\n",
    "\n",
    "train['vintage_15andmore'] = train[['description', 'price_total']].apply(vintage_15andmore, axis=1)\n",
    "test['vintage_15andmore'] = test[['description', 'price_total']].apply(vintage_15andmore, axis=1)\n"
   ]
  },
  {
   "cell_type": "code",
   "execution_count": 6,
   "metadata": {},
   "outputs": [
    {
     "data": {
      "text/plain": [
       "RandomForestClassifier(bootstrap=True, class_weight=None, criterion='gini',\n",
       "                       max_depth=5, max_features='auto', max_leaf_nodes=None,\n",
       "                       min_impurity_decrease=0.0, min_impurity_split=None,\n",
       "                       min_samples_leaf=1, min_samples_split=2,\n",
       "                       min_weight_fraction_leaf=0.0, n_estimators=100,\n",
       "                       n_jobs=None, oob_score=False, random_state=0, verbose=0,\n",
       "                       warm_start=False)"
      ]
     },
     "execution_count": 6,
     "metadata": {},
     "output_type": "execute_result"
    }
   ],
   "source": [
    "#Model ----\n",
    "X = train[feats].values\n",
    "y = train['is_canceled'].values\n",
    "\n",
    "model = RandomForestClassifier(max_depth = 5, n_estimators = 100, random_state = 0)\n",
    "\n",
    "model.fit(X, y)"
   ]
  },
  {
   "cell_type": "code",
   "execution_count": 7,
   "metadata": {},
   "outputs": [
    {
     "name": "stdout",
     "output_type": "stream",
     "text": [
      "RandomForest_MD5\n",
      "0.9805886838884154\n",
      "(0.980966882375333, 0.9809321299385458, 4.1116405688485156e-05)\n",
      "\n"
     ]
    },
    {
     "data": {
      "image/png": "[encoded data removed]",
      "text/plain": [
       "<Figure size 720x720 with 2 Axes>"
      ]
     },
     "metadata": {
      "needs_background": "light"
     },
     "output_type": "display_data"
    },
    {
     "data": {
      "image/png": "[encoded data removed]",
      "text/plain": [
       "<Figure size 1080x360 with 1 Axes>"
      ]
     },
     "metadata": {
      "needs_background": "light"
     },
     "output_type": "display_data"
    }
   ],
   "source": [
    "y_pred = cross_val_predict(model, X, y, cv=3)\n",
    "skplt.metrics.plot_confusion_matrix(y, y_pred, normalize=True, figsize=(10 ,10));\n",
    "\n",
    "skplt.estimators.plot_feature_importances(model, feature_names=feats, x_tick_rotation=90, figsize=(15, 5));\n",
    "\n",
    "compare('RandomForest_MD5', RandomForestClassifier(max_depth = 5, n_estimators = 100, random_state = 0), X, y)"
   ]
  },
  {
   "cell_type": "code",
   "execution_count": 8,
   "metadata": {
    "scrolled": false
   },
   "outputs": [],
   "source": [
    "#SUBMIT\n",
    "\n",
    "x_test = test[feats].values\n",
    "y_test_pred = model.predict(x_test)\n",
    "\n",
    "orders_test = test[feats]\n",
    "#display(orders_test)\n",
    "\n",
    "orders_test['is_canceled'] = y_test_pred\n",
    "\n",
    "orders_test = orders_test.groupby('invoice', as_index = False)['is_canceled', 'price_total'].sum()\n",
    "\n",
    "orders_test['is_canceled'] = orders_test['is_canceled'] > 0\n",
    "\n",
    "orders_test['total_return'] = orders_test['price_total'] * orders_test['is_canceled'] \n",
    "\n",
    "orders_test[ ['invoice', 'total_return'] ].to_csv('../output/submit_RandomForestClassifier_k2.csv', index=False)"
   ]
  },
  {
   "cell_type": "code",
   "execution_count": null,
   "metadata": {},
   "outputs": [],
   "source": []
  }
 ],
 "metadata": {
  "kernelspec": {
   "display_name": "Python 3",
   "language": "python",
   "name": "python3"
  },
  "language_info": {
   "codemirror_mode": {
    "name": "ipython",
    "version": 3
   },
   "file_extension": ".py",
   "mimetype": "text/x-python",
   "name": "python",
   "nbconvert_exporter": "python",
   "pygments_lexer": "ipython3",
   "version": "3.7.4"
  }
 },
 "nbformat": 4,
 "nbformat_minor": 2
}
